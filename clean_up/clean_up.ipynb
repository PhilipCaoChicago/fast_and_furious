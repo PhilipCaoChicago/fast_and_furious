{
 "cells": [
  {
   "cell_type": "code",
   "execution_count": 1,
   "metadata": {
    "collapsed": true
   },
   "outputs": [],
   "source": [
    "import pandas as pd"
   ]
  },
  {
   "cell_type": "code",
   "execution_count": 2,
   "metadata": {
    "collapsed": true
   },
   "outputs": [],
   "source": [
    "total_df = pd.read_csv(\"yellow_tripdata_2016-01.csv\")"
   ]
  },
  {
   "cell_type": "code",
   "execution_count": 3,
   "metadata": {},
   "outputs": [
    {
     "data": {
      "text/plain": [
       "10906858"
      ]
     },
     "execution_count": 3,
     "metadata": {},
     "output_type": "execute_result"
    }
   ],
   "source": [
    "len(total_df)"
   ]
  },
  {
   "cell_type": "code",
   "execution_count": 4,
   "metadata": {
    "collapsed": true
   },
   "outputs": [],
   "source": [
    "sample = total_df.sample(frac=0.01, random_state=1)"
   ]
  },
  {
   "cell_type": "code",
   "execution_count": 5,
   "metadata": {},
   "outputs": [
    {
     "data": {
      "text/plain": [
       "109069"
      ]
     },
     "execution_count": 5,
     "metadata": {},
     "output_type": "execute_result"
    }
   ],
   "source": [
    "len(sample)"
   ]
  },
  {
   "cell_type": "code",
   "execution_count": 6,
   "metadata": {
    "collapsed": true
   },
   "outputs": [],
   "source": [
    "def clean_up(df):\n",
    "    \n",
    "    df = df[(df[\"VendorID\"] == 1) | (df[\"VendorID\"] == 2)]\n",
    "    df = df[df[\"tpep_pickup_datetime\"] < df[\"tpep_dropoff_datetime\"]]\n",
    "    df = df[df[\"passenger_count\"] >= 1]\n",
    "    df = df[df[\"trip_distance\"] > 0.0]\n",
    "    df = df[df[\"pickup_longitude\"] != 0.0]\n",
    "    df = df[df[\"pickup_longitude\"] != 0.0]\n",
    "    df = df[df[\"RatecodeID\"] <= 6]\n",
    "    df = df[df[\"store_and_fwd_flag\"] == \"N\"]\n",
    "    df = df[df[\"dropoff_longitude\"] != 0.0]\n",
    "    df = df[df[\"dropoff_latitude\"] != 0.0]\n",
    "    df = df[(df[\"payment_type\"] == 1) | (df[\"payment_type\"] == 2)]\n",
    "    df = df[df[\"fare_amount\"] > 0.0]\n",
    "    df = df[df[\"extra\"] >= 0.0]\n",
    "    df = df[df[\"mta_tax\"] >= 0.0]\n",
    "    df = df[df[\"mta_tax\"] >= 0.0]\n",
    "    df = df[df[\"tip_amount\"] >= 0.0]\n",
    "    df = df[df[\"tolls_amount\"] >= 0.0]\n",
    "    df = df[df[\"improvement_surcharge\"] >= 0.0]\n",
    "    df = df[df[\"total_amount\"] >= 0.0]\n",
    "    \n",
    "    return df"
   ]
  },
  {
   "cell_type": "code",
   "execution_count": 7,
   "metadata": {
    "collapsed": true
   },
   "outputs": [],
   "source": [
    "df = clean_up(sample)"
   ]
  },
  {
   "cell_type": "code",
   "execution_count": 8,
   "metadata": {},
   "outputs": [
    {
     "data": {
      "text/plain": [
       "105791"
      ]
     },
     "execution_count": 8,
     "metadata": {},
     "output_type": "execute_result"
    }
   ],
   "source": [
    "len(df)"
   ]
  },
  {
   "cell_type": "code",
   "execution_count": 9,
   "metadata": {
    "collapsed": true
   },
   "outputs": [],
   "source": [
    "#df.to_csv(\"sample_2016-01.csv\")"
   ]
  }
 ],
 "metadata": {
  "kernelspec": {
   "display_name": "Python 3",
   "language": "python",
   "name": "python3"
  },
  "language_info": {
   "codemirror_mode": {
    "name": "ipython",
    "version": 3
   },
   "file_extension": ".py",
   "mimetype": "text/x-python",
   "name": "python",
   "nbconvert_exporter": "python",
   "pygments_lexer": "ipython3",
   "version": "3.6.3"
  }
 },
 "nbformat": 4,
 "nbformat_minor": 2
}
